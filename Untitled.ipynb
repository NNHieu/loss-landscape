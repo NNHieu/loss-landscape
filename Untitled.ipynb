{
 "cells": [
  {
   "cell_type": "code",
   "execution_count": 1,
   "id": "d83baa72-c506-474e-9454-2d220ca3e865",
   "metadata": {},
   "outputs": [],
   "source": [
    "import cifar10.model_loader as netloader\n",
    "import torch\n",
    "from dataloader import load_dataset\n",
    "from evaluation import eval_loss\n",
    "from torch import nn\n",
    "\n",
    "from torchvision import datasets, transforms \n",
    "from torch.utils.data import DataLoader "
   ]
  },
  {
   "cell_type": "code",
   "execution_count": 2,
   "id": "692a5247-4d0b-4f9c-a6b3-77f45256630c",
   "metadata": {},
   "outputs": [],
   "source": [
    "device = 'cuda:0' if torch.cuda.is_available() else 'cpu'"
   ]
  },
  {
   "cell_type": "code",
   "execution_count": 3,
   "id": "5f26e96c-6c36-44f2-9bf3-900f5c484ae5",
   "metadata": {},
   "outputs": [
    {
     "name": "stdout",
     "output_type": "stream",
     "text": [
      "Train loss:  0.15770432680845262 , Train error:  0.04926\n",
      "Test loss:  0.6980210530757904 , Test error:  0.1949\n",
      "Sequential(\n",
      "  (0): Conv2d(3, 48, kernel_size=(3, 3), stride=(1, 1), padding=(1, 1))\n",
      "  (1): BatchNorm2d(48, eps=1e-05, momentum=0.1, affine=True, track_running_stats=True)\n",
      "  (2): DEQFixedPoint(\n",
      "    (f): ResNetLayer(\n",
      "      (conv1): Conv2d(48, 64, kernel_size=(3, 3), stride=(1, 1), padding=(1, 1), bias=False)\n",
      "      (conv2): Conv2d(64, 48, kernel_size=(3, 3), stride=(1, 1), padding=(1, 1), bias=False)\n",
      "      (norm1): GroupNorm(8, 64, eps=1e-05, affine=True)\n",
      "      (norm2): GroupNorm(8, 48, eps=1e-05, affine=True)\n",
      "      (norm3): GroupNorm(8, 48, eps=1e-05, affine=True)\n",
      "    )\n",
      "  )\n",
      "  (3): BatchNorm2d(48, eps=1e-05, momentum=0.1, affine=True, track_running_stats=True)\n",
      "  (4): AvgPool2d(kernel_size=8, stride=8, padding=0)\n",
      "  (5): Flatten(start_dim=1, end_dim=-1)\n",
      "  (6): Linear(in_features=768, out_features=10, bias=True)\n",
      ")\n"
     ]
    }
   ],
   "source": [
    "deq = netloader.load('deq', model_file=None)\n",
    "model_file = torch.load('cifar10/trained_nets/deq/DEQ_CIFAR10.ph')\n",
    "print('Train loss: ', model_file['train_loss'], ', Train error: ', model_file['train_error'])\n",
    "print('Test loss: ', model_file['test_loss'], ', Test error: ', model_file['test_error'])\n",
    "\n",
    "deq.load_state_dict(model_file['state_dict'])\n",
    "print(deq)"
   ]
  },
  {
   "cell_type": "code",
   "execution_count": 7,
   "id": "f7700072-18bb-4666-8344-a1abf0dfd7b2",
   "metadata": {},
   "outputs": [
    {
     "name": "stdout",
     "output_type": "stream",
     "text": [
      "Files already downloaded and verified\n"
     ]
    }
   ],
   "source": [
    "# CIFAR10 data loader \n",
    "# cifar10_train = datasets.CIFAR10(\"cifar10/data\", train=True, download=True, transform=transforms.ToTensor()) \n",
    "# cifar10_test = datasets.CIFAR10(\"cifar10/data\", train=False, download=True, transform=transforms.ToTensor()) \n",
    "# train_loader = DataLoader(cifar10_train, batch_size = 100, shuffle=True, num_workers=8) \n",
    "# test_loader = DataLoader(cifar10_test, batch_size = 100, shuffle=False, num_workers=8)\n",
    "train_loader, _ = load_dataset(raw_data=True)\n",
    "criterion = nn.CrossEntropyLoss()"
   ]
  },
  {
   "cell_type": "code",
   "execution_count": 8,
   "id": "09f688e6-2061-43de-b665-1284fcef899b",
   "metadata": {},
   "outputs": [
    {
     "data": {
      "text/plain": [
       "(0.1470857246685028, 95.53)"
      ]
     },
     "execution_count": 8,
     "metadata": {},
     "output_type": "execute_result"
    }
   ],
   "source": [
    "eval_loss(deq, criterion, train_loader, use_cuda=True)"
   ]
  },
  {
   "cell_type": "code",
   "execution_count": null,
   "id": "bd4ff3e5-a6e7-4180-89a7-42f845c134bd",
   "metadata": {},
   "outputs": [],
   "source": []
  }
 ],
 "metadata": {
  "kernelspec": {
   "display_name": "Python 3 (ipykernel)",
   "language": "python",
   "name": "python3"
  },
  "language_info": {
   "codemirror_mode": {
    "name": "ipython",
    "version": 3
   },
   "file_extension": ".py",
   "mimetype": "text/x-python",
   "name": "python",
   "nbconvert_exporter": "python",
   "pygments_lexer": "ipython3",
   "version": "3.9.7"
  }
 },
 "nbformat": 4,
 "nbformat_minor": 5
}
